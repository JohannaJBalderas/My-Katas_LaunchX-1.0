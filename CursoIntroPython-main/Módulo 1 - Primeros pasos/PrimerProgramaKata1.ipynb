{
 "cells": [
  {
   "cell_type": "markdown",
   "metadata": {},
   "source": [
    "## MI PRIMER PROGRAMA\n",
    "\n",
    "> **Fecha:**\n",
    "Dentro de este programa que me pidio mi oficial al mando voy a programar la fecha para que el usuario la pueda visibilizar"
   ]
  },
  {
   "cell_type": "code",
   "execution_count": 4,
   "metadata": {},
   "outputs": [
    {
     "name": "stdout",
     "output_type": "stream",
     "text": [
      "Today's date is: 2022-02-10\n"
     ]
    }
   ],
   "source": [
    "from datetime import date\n",
    "print((\"Today's date is: \")+ str (date.today()))"
   ]
  },
  {
   "cell_type": "markdown",
   "metadata": {},
   "source": [
    "> **Convestidor de Unidades:**\n",
    "En esta sección veremos un convertidor de unidades parsecs y años luz"
   ]
  },
  {
   "cell_type": "code",
   "execution_count": 21,
   "metadata": {},
   "outputs": [
    {
     "name": "stdout",
     "output_type": "stream",
     "text": [
      "Convertidor de unidades\n",
      "¿Cuántos parsec desea convertir?\n",
      "11.0 parsec, is 35.877159999999996 lightyears\n"
     ]
    }
   ],
   "source": [
    "print(\"Convertidor de unidades\")\n",
    "print(\"¿Cuántos parsec desea convertir?\")\n",
    "parsec=float(input())\n",
    "lightyears=3.26156* float(parsec)\n",
    "print(str(parsec) + \" parsec, is \" + str(lightyears) + \" lightyears\")"
   ]
  },
  {
   "cell_type": "markdown",
   "metadata": {},
   "source": [
    "También se puede con el siguiente código:\n",
    "\n",
    "    print(\"Convertidor de unidades\")\n",
    "    print(\"¿Cuántos parsec desea convertir?\")\n",
    "    parsec=input()\n",
    "    lightyears=3.26156* float(parsec)   \n",
    "    print(str(parsec) + \" parsec, is \" + str(lightyears) + \" lightyears\")'''"
   ]
  }
 ],
 "metadata": {
  "interpreter": {
   "hash": "46e95903e85963e595f0fad516615e829f9768151c3a449e3b682c577d7e9a80"
  },
  "kernelspec": {
   "display_name": "Python 3.10.2 64-bit",
   "language": "python",
   "name": "python3"
  },
  "language_info": {
   "codemirror_mode": {
    "name": "ipython",
    "version": 3
   },
   "file_extension": ".py",
   "mimetype": "text/x-python",
   "name": "python",
   "nbconvert_exporter": "python",
   "pygments_lexer": "ipython3",
   "version": "3.10.2"
  },
  "orig_nbformat": 4
 },
 "nbformat": 4,
 "nbformat_minor": 2
}
